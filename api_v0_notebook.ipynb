{
 "cells": [
  {
   "cell_type": "markdown",
   "metadata": {},
   "source": [
    "<img src=\"https://nds.iaea.org/relnsd/images/iaea.PNG\" style=\"float:left; border-radius:6px\">\n",
    "<div style=\"margin-top:10px;font-size:22pt;font-weight:bold;\">&nbsp;&nbsp; Livechart API + Data Science packages\n",
    "    <div style=\"font-size:14pt; font-weight:normal; padding-left:100px;margin-bottom:-10px;margin-top:-10px\">Version <span style=\"font-family:Monospace\">0</span></div>\n",
    "<!--span style=\"font-size:16pt; font-weight:normal\"> version 0</span-->\n",
    "</div>\n",
    "<br>\n",
    "<div style=\"border-bottom:1px solid black;max-width:700px;margin-top:-12px\"></div>\n",
    "\n",
    "<br>\n",
    "This notebook makes use of<br>\n",
    "\n",
    "**Pandas** : a library for data manipulation:\n",
    "https://pandas.pydata.org\n",
    "<br>\n",
    "**Plotly** http://plotly.com : a package for interactive data visualization, \n",
    "<a href=\"http://plotly.com/python/getting-started/#jupyterlab-support-python-35\">here</a> how to get it work with jupyter lab \n",
    "<br>\n",
    "\n",
    "Write your feedback to nds.contact-point@iaea.org\n",
    " \n",
    "## API Quick how-to\n",
    "The service URL is  <b>nds.iaea.org/relnsd/v0/data?</b>\n",
    "followed by parameters. For example:\n",
    "<br> nds.iaea.org/relnsd/v0/data?<b>fields=decay_rads&nuclides=241am&rad_types=g</b>.<br>\n",
    "The <a href=//nds.iaea.org/relnsd/vcharthtml/api_v0_guide.html><b>API v0 guide</b></a> gives the detailed description, here a short summary\n",
    "<br><br>\n",
    "<b>`fields=`</b> specifies what is retrieved  (at the bottom of this notebook there is the list of the columns for each choice)\n",
    "<br> these are the possible options<br><br>\n",
    "_ground_states <br> levels  <br> gammas  <br> decay_rads  <br> cumulative_fy  <br> independent_fy_ \n",
    "<br><br>\n",
    "for _ground_states, levels, gammas, decay_rads_ it is mandatory to add the <b>nuclide</b> parameter<br>\n",
    "`fields=levels&nuclides=135xe`\n",
    "<br><br>\n",
    "for _decay_rads_ also the parameter <b>rad_types</b> is mandatory. Values are a, bp, bm, g, e, x (alpha, beta+, beta-, gamma, electron, X-ray) \n",
    "<br>\n",
    "`fields=decay_rads&nuclides=135xe&rad_types=bm`\n",
    "<br>Be aware e aware of the fields <b>\"p_energy\" and\n",
    "                        \"decay\"</b>. For\n",
    "                    the same nuclide there can\n",
    "                    be more than one decay mode, and, in case of metastable states, more states than the simple ground\n",
    "                    state. This might result in gamma lines having the\n",
    "                    same energy, but emitted by different decays \n",
    "<br><br>\n",
    "for  _cumulative_fy, independent_fy_ one has to specify the <b>parent</b> and/or the <b>product</b>. Parents are _232th, 233u, 235u, 238u, 237np, 239pu, 241pu, 241am_ \n",
    "<br>\n",
    "`fields=cumulative_fy&parents=233u&product=135xe `\n",
    "\n",
    "<div style=\"margin-top:10px;font-size:18pt;font-weight:bold;\">  Examples</div>\n",
    "<br>"
   ]
  },
  {
   "cell_type": "code",
   "execution_count": null,
   "metadata": {},
   "outputs": [],
   "source": [
    "import pandas as pd\n",
    "import plotly.express as px\n",
    "import plotly.graph_objects as go\n",
    "\n",
    "# the service URL\n",
    "livechart = \"https://nds.iaea.org/relnsd/v0/data?\"\n",
    "\n",
    "# There have been cases in which the service returns an HTTP Error 403: Forbidden\n",
    "# use this workaround\n",
    "import urllib.request\n",
    "def lc_pd_dataframe(url):\n",
    "    req = urllib.request.Request(url)\n",
    "    req.add_header('User-Agent', 'Mozilla/5.0 (X11; Ubuntu; Linux x86_64; rv:77.0) Gecko/20100101 Firefox/77.0')\n",
    "    return pd.read_csv(urllib.request.urlopen(req))\n",
    "\n"
   ]
  },
  {
   "cell_type": "markdown",
   "metadata": {},
   "source": [
    "## Plot &gamma; energy vs intensity for Am-241 decay\n",
    "\n",
    "<b>fields=decay_rads</b> specifies to retrieve the decay radiations, <b>nuclides=241am</b>\n",
    "specifies the parent of the decay (241am), <b>rad_types=g</b> for the radiation type (gamma). \n",
    "<br>\n",
    "On the **plot** below, mouseover the points to see the data. Zoom an pan are enabled, and the option to save as png is is activated when the mouse is over the top-right"
   ]
  },
  {
   "cell_type": "code",
   "execution_count": null,
   "metadata": {},
   "outputs": [],
   "source": [
    "# load data into a dataframe \n",
    "df = lc_pd_dataframe(livechart + \"fields=decay_rads&nuclides=241am&rad_types=g\")\n",
    "\n",
    "df = df[pd.to_numeric(df['intensity'],errors='coerce').notna()] # remove blanks (unknown intensities)\n",
    "df.intensity = df['intensity'].astype(float) # convert to numeric. Note how one can specify the field by attribute or by string \n",
    "\n",
    "fig = px.scatter(df, x=\"energy\", y=\"intensity\", log_y=True) # plot in log scale\n",
    "fig.show()"
   ]
  },
  {
   "cell_type": "markdown",
   "metadata": {},
   "source": [
    "## Plot Log FT vs Transition type for Nb-100 decay\n",
    "The fields to be retieved are decay_rads, the nuclide is 100-Nb, and the radiation type is bm\n",
    "<br>\n",
    "In this case, only the relevant fields are loaded into the dataset; then data are grouped by transition, binned, and plotted\n",
    "\n",
    "The transition types in the plot legend are not decoded. A stands for Allowed, 1NU for 1st non unique, ..."
   ]
  },
  {
   "cell_type": "code",
   "execution_count": null,
   "metadata": {},
   "outputs": [],
   "source": [
    "url = livechart+\"fields=decay_rads&nuclides=100nb&rad_types=bm\"\n",
    "\n",
    "df=lc_pd_dataframe(url)[['transition_type','log_ft']] # optional:load only transition_type and log_ft \n",
    "\n",
    "df = df[pd.to_numeric(df.log_ft,errors='coerce').notna()] # remove unknowns and convert to numeric values\n",
    "df.log_ft = df.log_ft.astype(float)\n",
    "\n",
    "ans = [pd.DataFrame(y) for x, y in df.groupby('transition_type', as_index=False)] # group log ft values by transition\n",
    "fig = go.Figure()\n",
    "\n",
    "for a in ans:\n",
    "    ct = pd.cut(a.log_ft, bins=10)   # bin each grouping \n",
    "    tst = ct.apply(lambda x: x.mid).value_counts(sort=False)  # assign the mid value to each bin\n",
    "    fig.add_trace(go.Scatter(x=tst.index.values, y = tst, mode=\"markers\", line_shape='spline', name=a.transition_type.iloc[0]))\n",
    "fig.show()"
   ]
  },
  {
   "cell_type": "markdown",
   "metadata": {},
   "source": [
    "## Apply further filters once the data are loaded\n",
    "The pandas <b>query</b> function acts on the loaded dataset.\n",
    "<br>\n",
    "To plot the Half-life of Ac isotopes, apply the *query* function to the column *symbol* to extract the *Ac* isotopes\n",
    "```python\n",
    ".query('symbol==\"Ac\"')\n",
    "```\n"
   ]
  },
  {
   "cell_type": "code",
   "execution_count": null,
   "metadata": {},
   "outputs": [],
   "source": [
    "url=livechart+\"fields=ground_states&nuclides=all\"\n",
    "\n",
    "df=lc_pd_dataframe(url)[['symbol','n','half_life_sec']].query('symbol==\"Ac\"') # further filter\n",
    "\n",
    "fig = px.scatter(df, x=\"n\", y=\"half_life_sec\", log_y=True)\n",
    "fig.show()"
   ]
  },
  {
   "cell_type": "markdown",
   "metadata": {},
   "source": [
    "## 3D and 2D plots of fission yields\n",
    "Use the mouse to rotate and zoom"
   ]
  },
  {
   "cell_type": "code",
   "execution_count": null,
   "metadata": {},
   "outputs": [],
   "source": [
    "\n",
    "url=livechart+\"fields=cumulative_fy&parents=235u\"\n",
    "df = lc_pd_dataframe(url) [['z_daughter','a_daughter',\"element_daughter\",'cumulative_fast_fy']]\n",
    "df = df[pd.to_numeric(df.cumulative_fast_fy,errors='coerce').notna()]\n",
    "df.cumulative_fast_fy = df.cumulative_fast_fy.astype(float)\n",
    "  \n",
    "\n",
    "fig = go.Figure(data=[go.Scatter3d(\n",
    "    x=df[\"z_daughter\"],\n",
    "    y=df[\"a_daughter\"]-df[\"z_daughter\"],\n",
    "    z=df[\"cumulative_fast_fy\"],\n",
    "    mode='markers',\n",
    "    text = df['a_daughter'].apply(str) + df[\"element_daughter\"],\n",
    "    marker=dict(\n",
    "        size=7\n",
    "        ,color=df[\"cumulative_fast_fy\"] # array/list of values setting the color\n",
    "        ,colorscale='Viridis'           # colorscale\n",
    "    )\n",
    "     \n",
    "\n",
    ")])\n",
    "\n",
    "camera = dict(                          # initial spacial settings \n",
    "    up=dict(x=0, y=0, z=1),\n",
    "    center=dict(x=0, y=0, z=0),\n",
    "    eye=dict(x=0.1, y=2, z=-1.5)        # view it from the bottom\n",
    ")\n",
    "\n",
    "fig.update_layout(scene_camera=camera, margin=dict(l=0, r=0, b=0, t=0), height=900)\n",
    "fig.show()\n",
    "\n",
    "# 2D plot\n",
    "fig2 = go.Figure()\n",
    "fig2.add_trace(go.Scatter( x=df[df.columns[1]], y=df['cumulative_fast_fy'], mode=\"markers\", text= df['a_daughter'].apply(str) + df[\"element_daughter\"]))\n",
    "fig2.update_layout( height=1000, xaxis_title=\"A\", yaxis_title=\"Yield \") \n",
    "fig2.show()\n",
    "        \n"
   ]
  },
  {
   "cell_type": "markdown",
   "metadata": {},
   "source": [
    "## Column titles and samples of the available sets\n",
    "\n",
    "**<span style=\"font-size:16pt\">&bull;</span> Ground state**"
   ]
  },
  {
   "cell_type": "code",
   "execution_count": null,
   "metadata": {},
   "outputs": [],
   "source": [
    "pd.set_option('display.max_columns', None)\n",
    "pd.set_option(\"display.max_rows\", 3)\n",
    "\n",
    "# GS\n",
    "df=lc_pd_dataframe(livechart+\"fields=ground_states&nuclides=236np\")\n",
    "df"
   ]
  },
  {
   "cell_type": "markdown",
   "metadata": {},
   "source": [
    "**<span style=\"font-size:16pt\">&bull;</span> Level**\n",
    "<br>\n",
    "Note the \"X\" in the energy_shift field for the 2nd level, and the value in the \"ripl_shift\" column (see <a href=\"api_guide.html#fields\">the API guide</a> for the meaning of the shift)"
   ]
  },
  {
   "cell_type": "code",
   "execution_count": null,
   "metadata": {},
   "outputs": [],
   "source": [
    "# LEVEL\n",
    "df=lc_pd_dataframe(livechart+\"fields=levels&nuclides=236np\")\n",
    "df"
   ]
  },
  {
   "cell_type": "markdown",
   "metadata": {},
   "source": [
    "**<span style=\"font-size:16pt\">&bull;</span>Gamma**"
   ]
  },
  {
   "cell_type": "code",
   "execution_count": null,
   "metadata": {},
   "outputs": [],
   "source": [
    "# GAMMA transitions\n",
    "df=lc_pd_dataframe(livechart+\"fields=gammas&nuclides=135xe\")\n",
    "df"
   ]
  },
  {
   "cell_type": "markdown",
   "metadata": {},
   "source": [
    "**<span style=\"font-size:16pt\">&bull;</span>Cumulative fission**"
   ]
  },
  {
   "cell_type": "code",
   "execution_count": null,
   "metadata": {},
   "outputs": [],
   "source": [
    "# CUMULATIVE_FISSION\n",
    "df=lc_pd_dataframe(livechart+\"fields=cumulative_fy&products=135xe\")\n",
    "df"
   ]
  },
  {
   "cell_type": "markdown",
   "metadata": {},
   "source": [
    "**<span style=\"font-size:16pt\">&bull;</span>Independent fission**"
   ]
  },
  {
   "cell_type": "code",
   "execution_count": null,
   "metadata": {},
   "outputs": [],
   "source": [
    "# INDEPENDENT FISSION\n",
    "df=lc_pd_dataframe(livechart+\"fields=independent_fy&parents=235u\")\n",
    "df"
   ]
  },
  {
   "cell_type": "markdown",
   "metadata": {},
   "source": [
    "**<span style=\"font-size:16pt\">&bull;</span>Decay radiation**"
   ]
  },
  {
   "cell_type": "code",
   "execution_count": null,
   "metadata": {},
   "outputs": [],
   "source": [
    "# DECAY_RADIATION, type alpha\n",
    "df=lc_pd_dataframe(livechart+\"fields=decay_radiations&nuclides=238u&rad_types=a\")\n",
    "df"
   ]
  },
  {
   "cell_type": "code",
   "execution_count": null,
   "metadata": {},
   "outputs": [],
   "source": [
    "# DECAY_RADIATION, type gamma\n",
    "df=lc_pd_dataframe(livechart+\"fields=decay_rads&nuclides=238u&rad_types=g\")\n",
    "df"
   ]
  },
  {
   "cell_type": "code",
   "execution_count": null,
   "metadata": {},
   "outputs": [],
   "source": [
    "# DECAY_RADIATION, type x-ray\n",
    "df=lc_pd_dataframe(livechart+\"fields=decay_rads&nuclides=238u&rad_types=x\")\n",
    "df"
   ]
  },
  {
   "cell_type": "code",
   "execution_count": null,
   "metadata": {},
   "outputs": [],
   "source": [
    "# DECAY_RADIATION, type beta-\n",
    "df=lc_pd_dataframe(livechart+\"fields=decay_rads&nuclides=135xe&rad_types=bm\")\n",
    "df"
   ]
  },
  {
   "cell_type": "code",
   "execution_count": null,
   "metadata": {},
   "outputs": [],
   "source": [
    "# DECAY_RADIATION, type electron\n",
    "df=lc_pd_dataframe(livechart+\"fields=decay_rads&nuclides=238u&rad_types=e\")\n",
    "df"
   ]
  },
  {
   "cell_type": "code",
   "execution_count": null,
   "metadata": {},
   "outputs": [],
   "source": [
    "# DECAY_RADIATION, type beta+/electron capture\n",
    "df=lc_pd_dataframe(livechart+\"fields=decay_rads&nuclides=236np&rad_types=bp\")\n",
    "df"
   ]
  },
  {
   "cell_type": "code",
   "execution_count": null,
   "metadata": {},
   "outputs": [],
   "source": []
  }
 ],
 "metadata": {
  "kernelspec": {
   "display_name": "Python 3 (ipykernel)",
   "language": "python",
   "name": "python3"
  },
  "language_info": {
   "codemirror_mode": {
    "name": "ipython",
    "version": 3
   },
   "file_extension": ".py",
   "mimetype": "text/x-python",
   "name": "python",
   "nbconvert_exporter": "python",
   "pygments_lexer": "ipython3",
   "version": "3.8.8"
  }
 },
 "nbformat": 4,
 "nbformat_minor": 4
}
